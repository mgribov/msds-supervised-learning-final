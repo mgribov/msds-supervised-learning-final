{
 "cells": [
  {
   "cell_type": "code",
   "execution_count": 62,
   "metadata": {
    "collapsed": false
   },
   "outputs": [
    {
     "ename": "ModuleNotFoundError",
     "evalue": "No module named 'statsmodels'",
     "output_type": "error",
     "traceback": [
      "\u001b[0;31m---------------------------------------------------------------------------\u001b[0m",
      "\u001b[0;31mModuleNotFoundError\u001b[0m                       Traceback (most recent call last)",
      "\u001b[0;32m<ipython-input-62-bab45be0a444>\u001b[0m in \u001b[0;36m<module>\u001b[0;34m\u001b[0m\n\u001b[1;32m      5\u001b[0m \u001b[0;32mimport\u001b[0m \u001b[0msys\u001b[0m\u001b[0;34m\u001b[0m\u001b[0;34m\u001b[0m\u001b[0m\n\u001b[1;32m      6\u001b[0m \u001b[0;32mfrom\u001b[0m \u001b[0msklearn\u001b[0m\u001b[0;34m.\u001b[0m\u001b[0mmodel_selection\u001b[0m \u001b[0;32mimport\u001b[0m \u001b[0mtrain_test_split\u001b[0m\u001b[0;34m\u001b[0m\u001b[0;34m\u001b[0m\u001b[0m\n\u001b[0;32m----> 7\u001b[0;31m \u001b[0;32mimport\u001b[0m \u001b[0mstatsmodels\u001b[0m\u001b[0;34m.\u001b[0m\u001b[0mformula\u001b[0m\u001b[0;34m.\u001b[0m\u001b[0mapi\u001b[0m \u001b[0;32mas\u001b[0m \u001b[0msmf\u001b[0m\u001b[0;34m\u001b[0m\u001b[0;34m\u001b[0m\u001b[0m\n\u001b[0m\u001b[1;32m      8\u001b[0m \u001b[0;32mimport\u001b[0m \u001b[0mstatsmodels\u001b[0m\u001b[0;34m.\u001b[0m\u001b[0mapi\u001b[0m \u001b[0;32mas\u001b[0m \u001b[0msm\u001b[0m\u001b[0;34m\u001b[0m\u001b[0;34m\u001b[0m\u001b[0m\n\u001b[1;32m      9\u001b[0m \u001b[0;31m#print(sys.version_info)\u001b[0m\u001b[0;34m\u001b[0m\u001b[0;34m\u001b[0m\u001b[0;34m\u001b[0m\u001b[0m\n",
      "\u001b[0;31mModuleNotFoundError\u001b[0m: No module named 'statsmodels'"
     ]
    }
   ],
   "source": [
    "import pandas as pd\n",
    "import matplotlib.pyplot as plt\n",
    "import numpy as np\n",
    "import math\n",
    "import sys\n",
    "from sklearn.model_selection import train_test_split\n",
    "\n",
    "#import statsmodels.formula.api as smf\n",
    "#import statsmodels.api as sm\n",
    "#print(sys.version_info)\n",
    "#import seaborn as sns"
   ]
  },
  {
   "cell_type": "code",
   "execution_count": 3,
   "metadata": {
    "collapsed": false
   },
   "outputs": [
    {
     "name": "stdout",
     "output_type": "stream",
     "text": [
      "<class 'pandas.core.frame.DataFrame'>\n",
      "RangeIndex: 4898 entries, 0 to 4897\n",
      "Data columns (total 12 columns):\n",
      "fixed acidity           4898 non-null float64\n",
      "volatile acidity        4898 non-null float64\n",
      "citric acid             4898 non-null float64\n",
      "residual sugar          4898 non-null float64\n",
      "chlorides               4898 non-null float64\n",
      "free sulfur dioxide     4898 non-null float64\n",
      "total sulfur dioxide    4898 non-null float64\n",
      "density                 4898 non-null float64\n",
      "pH                      4898 non-null float64\n",
      "sulphates               4898 non-null float64\n",
      "alcohol                 4898 non-null float64\n",
      "quality                 4898 non-null int64\n",
      "dtypes: float64(11), int64(1)\n",
      "memory usage: 459.3 KB\n"
     ]
    }
   ],
   "source": [
    "df = pd.read_csv('/home/max/code/msds-supevised-learning/Final/data/winequality-white.csv', sep=';')\n",
    "\n",
    "# thankfully, no NA/missing values\n",
    "df.info()"
   ]
  },
  {
   "cell_type": "code",
   "execution_count": 4,
   "metadata": {
    "collapsed": false
   },
   "outputs": [
    {
     "data": {
      "image/png": "[encoded data removed]",
      "text/plain": [
       "<Figure size 432x288 with 1 Axes>"
      ]
     },
     "metadata": {
      "needs_background": "light"
     },
     "output_type": "display_data"
    }
   ],
   "source": [
    "# exploring the ranges of the 'quality' values\n",
    "df['quality'].hist(grid=False)\n",
    "plt.show()"
   ]
  },
  {
   "cell_type": "code",
   "execution_count": 57,
   "metadata": {
    "collapsed": false
   },
   "outputs": [
    {
     "name": "stdout",
     "output_type": "stream",
     "text": [
      "density               total sulfur dioxide    0.529881\n",
      "total sulfur dioxide  density                 0.529881\n",
      "                      free sulfur dioxide     0.615501\n",
      "free sulfur dioxide   total sulfur dioxide    0.615501\n",
      "density               residual sugar          0.838966\n",
      "residual sugar        density                 0.838966\n",
      "dtype: float64\n",
      "alcohol  density   -0.780138\n",
      "density  alcohol   -0.780138\n",
      "dtype: float64\n"
     ]
    }
   ],
   "source": [
    "# exploring the corelation matrix\n",
    "corr = df.corr()\n",
    "\n",
    "# sort the matrix by lowest to highest values\n",
    "corr_pairs = corr.unstack()\n",
    "sorted_corr_pairs = corr_pairs.sort_values()\n",
    "\n",
    "# according to the matrix, there are following interesting correlations:\n",
    "\n",
    "# positive:\n",
    "# residual sugar - density = 0.838966\n",
    "# free sulfur dioxide - total sulfur dioxide = 0.615501\n",
    "# density - total sulfur dioxide    0.529881\n",
    "pos_corr = sorted_corr_pairs[(sorted_corr_pairs.values >= 0.5) & (sorted_corr_pairs.values < 1)]\n",
    "print(pos_corr)\n",
    "\n",
    "# negative:\n",
    "# alcohol - density = -0.780138\n",
    "neg_corr = sorted_corr_pairs[(sorted_corr_pairs.values <= -0.5) & (sorted_corr_pairs.values > -1)]\n",
    "print(neg_corr)\n"
   ]
  },
  {
   "cell_type": "code",
   "execution_count": 58,
   "metadata": {
    "collapsed": false
   },
   "outputs": [
    {
     "name": "stdout",
     "output_type": "stream",
     "text": [
      "density                -0.307123\n",
      "chlorides              -0.209934\n",
      "volatile acidity       -0.194723\n",
      "total sulfur dioxide   -0.174737\n",
      "fixed acidity          -0.113663\n",
      "residual sugar         -0.097577\n",
      "citric acid            -0.009209\n",
      "free sulfur dioxide     0.008158\n",
      "sulphates               0.053678\n",
      "pH                      0.099427\n",
      "alcohol                 0.435575\n",
      "quality                 1.000000\n",
      "dtype: float64\n"
     ]
    }
   ],
   "source": [
    "# however there is no good strong correlation between 'quality' and any of the other columns\n",
    "print(sorted_corr_pairs['quality'])"
   ]
  },
  {
   "cell_type": "code",
   "execution_count": 59,
   "metadata": {
    "collapsed": false
   },
   "outputs": [],
   "source": [
    "# create new categorical column to simplify quality scoring\n",
    "# adding new column 'score' to be a label of 'bad', 'ok', 'great'.\n",
    "# based on 'quality' column ranges:\n",
    "# bad: 3-4, ok: 5-6, great: 7-9\n",
    "labels = ['bad', 'ok', 'great']\n",
    "df['score'] = pd.cut(df['quality'], range(3, 10, 2), right=False, labels=labels)"
   ]
  },
  {
   "cell_type": "code",
   "execution_count": 60,
   "metadata": {
    "collapsed": false
   },
   "outputs": [
    {
     "name": "stdout",
     "output_type": "stream",
     "text": [
      "bad: 183\n",
      "ok: 3655\n",
      "great: 1055\n"
     ]
    }
   ],
   "source": [
    "# there is a signigicant imbalance in \"score\" data, \n",
    "# majority of wines fall into \"ok\" category,\n",
    "# and \"bad\" category has the smallest number of samples\n",
    "print('bad:', df[df['score'] == 'bad'].count()['score'])\n",
    "print('ok:', df[df['score'] == 'ok'].count()['score'])\n",
    "print('great:', df[df['score'] == 'great'].count()['score'])\n"
   ]
  },
  {
   "cell_type": "code",
   "execution_count": 10,
   "metadata": {
    "collapsed": false
   },
   "outputs": [
    {
     "name": "stdout",
     "output_type": "stream",
     "text": [
      "fixed acidity          -0.113663\n",
      "volatile acidity       -0.194723\n",
      "citric acid            -0.009209\n",
      "residual sugar         -0.097577\n",
      "chlorides              -0.209934\n",
      "free sulfur dioxide     0.008158\n",
      "total sulfur dioxide   -0.174737\n",
      "density                -0.307123\n",
      "pH                      0.099427\n",
      "sulphates               0.053678\n",
      "alcohol                 0.435575\n",
      "quality                 1.000000\n",
      "Name: quality, dtype: float64\n"
     ]
    }
   ],
   "source": [
    "# because of the significant class imbalance, \n",
    "# first ill try to build a linear regression model to predict the raw 'quality' value\n",
    "\n",
    "# create training and testing datasets\n",
    "X_train, X_test = train_test_split(df, train_size=0.8, test_size=0.2)\n",
    "\n",
    "# i will use all the available factors to find best possible for a linear regression\n",
    "allowed_factors = ['fixed acidity', 'volatile acidity', 'citric acid', 'residual sugar',\n",
    "    'chlorides', 'free sulfur dioxide', 'total sulfur dioxide', 'density', 'pH', 'sulphates', 'alcohol']\n",
    "\n",
    "best = ['',0]\n",
    "for p in allowed_factors:\n",
    "    model  = smf.ols(formula='Density~'+p, data=X_train).fit()\n",
    "    print(p, model.rsquared)\n",
    "    if model.rsquared>best[1]:\n",
    "        best = [p, model.rsquared]\n",
    "print('best:',best)"
   ]
  },
  {
   "cell_type": "code",
   "execution_count": null,
   "metadata": {
    "collapsed": true
   },
   "outputs": [],
   "source": []
  }
 ],
 "metadata": {
  "kernelspec": {
   "display_name": "Python [py36]",
   "language": "python",
   "name": "Python [py36]"
  },
  "language_info": {
   "codemirror_mode": {
    "name": "ipython",
    "version": 3
   },
   "file_extension": ".py",
   "mimetype": "text/x-python",
   "name": "python",
   "nbconvert_exporter": "python",
   "pygments_lexer": "ipython3",
   "version": "3.6.8"
  }
 },
 "nbformat": 4,
 "nbformat_minor": 0
}
